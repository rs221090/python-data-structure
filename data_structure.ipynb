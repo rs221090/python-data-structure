{
 "cells": [
  {
   "cell_type": "markdown",
   "id": "4dffd0c3-812a-4ee3-aa4e-0d1761a10d05",
   "metadata": {},
   "source": [
    "1 -  Discuss string slicing and provide examples"
   ]
  },
  {
   "cell_type": "code",
   "execution_count": null,
   "id": "52d701ed-fb55-4712-bef6-117b9f2e1d1a",
   "metadata": {},
   "outputs": [],
   "source": [
    "solution -1\n",
    "String slicing is a method of obtaining a part of a given string by slicing it.\n",
    "syntax\n",
    "string[start:stop:step]"
   ]
  },
  {
   "cell_type": "code",
   "execution_count": 18,
   "id": "4e93bd14-a01c-4ded-a3a9-07c8e1483d39",
   "metadata": {},
   "outputs": [
    {
     "data": {
      "text/plain": [
       "'am'"
      ]
     },
     "execution_count": 18,
     "metadata": {},
     "output_type": "execute_result"
    }
   ],
   "source": [
    "#example of string[start:stop]\n",
    "aim = \"I am a data scientist\"\n",
    "aim[2:4] #will give items from index 2 to index 4-1 i.e 3 with step size 1(default)"
   ]
  },
  {
   "cell_type": "code",
   "execution_count": 19,
   "id": "65b9b2f8-c2cb-48eb-91df-b1d7dcb4435e",
   "metadata": {},
   "outputs": [
    {
     "data": {
      "text/plain": [
       "'a  aa'"
      ]
     },
     "execution_count": 19,
     "metadata": {},
     "output_type": "execute_result"
    }
   ],
   "source": [
    "#example of string[start:stop:step]\n",
    "aim = \"I am a data scientist\"\n",
    "aim[2:11:2] #will give items from index 2 to index 11-1 i.e 10 with step size 2"
   ]
  },
  {
   "cell_type": "code",
   "execution_count": 20,
   "id": "d37c02ac-b40c-459d-b657-fde6268f5895",
   "metadata": {},
   "outputs": [
    {
     "data": {
      "text/plain": [
       "'Ia  aa'"
      ]
     },
     "execution_count": 20,
     "metadata": {},
     "output_type": "execute_result"
    }
   ],
   "source": [
    "#example of string[:stop:step]\n",
    "aim = \"I am a data scientist\"\n",
    "aim[:11:2] #will give items from index 0(default) to index 11-1 i.e 10 with step size 2"
   ]
  },
  {
   "cell_type": "code",
   "execution_count": 21,
   "id": "50253ffc-1eb4-44f5-9d1b-308ea6c2423c",
   "metadata": {},
   "outputs": [
    {
     "data": {
      "text/plain": [
       "'Im tsei'"
      ]
     },
     "execution_count": 21,
     "metadata": {},
     "output_type": "execute_result"
    }
   ],
   "source": [
    "#example of string[::step]\n",
    "aim = \"I am a data scientist\"\n",
    "aim[::3] #will give items from index 0(default) to last index with step size 3"
   ]
  },
  {
   "cell_type": "code",
   "execution_count": 22,
   "id": "f22cbe5b-60c2-4f70-ac61-06c46008547d",
   "metadata": {},
   "outputs": [
    {
     "data": {
      "text/plain": [
       "'Im tsei'"
      ]
     },
     "execution_count": 22,
     "metadata": {},
     "output_type": "execute_result"
    }
   ],
   "source": [
    "#example of string[::]\n",
    "aim = \"I am a data scientist\"\n",
    "aim[::3] #will give items from index 0(default) to last index with step size 1(default)"
   ]
  },
  {
   "cell_type": "code",
   "execution_count": 23,
   "id": "4633c7eb-518e-4d34-9997-919916dbbf2f",
   "metadata": {},
   "outputs": [
    {
     "data": {
      "text/plain": [
       "'tsitneics atad a ma I'"
      ]
     },
     "execution_count": 23,
     "metadata": {},
     "output_type": "execute_result"
    }
   ],
   "source": [
    "#example of string[::-1] i.e negative stepsize\n",
    "aim = \"I am a data scientist\"\n",
    "aim[::-1] #it will reverse the string"
   ]
  },
  {
   "cell_type": "markdown",
   "id": "3e496054-4db1-45ef-a7a7-265098a43c74",
   "metadata": {},
   "source": [
    "2  Explain the key features of lists in Python."
   ]
  },
  {
   "cell_type": "code",
   "execution_count": null,
   "id": "42b8cddb-e931-4253-befe-93032391d480",
   "metadata": {},
   "outputs": [],
   "source": [
    "solution 2\n",
    "the key features of list are\n",
    ". lists are collection of hetrogenous element i.e. it can contain any type of data structure\n",
    ". lists are mutable i.e. we can add,remove and change the items after the list is defined\n",
    ". list are ordered and elements can be accessed by index"
   ]
  },
  {
   "cell_type": "markdown",
   "id": "9b705255-a7ec-4d88-92cf-faa42995454a",
   "metadata": {},
   "source": [
    "3 Describe how to access , modify and delete elements in a list with examples."
   ]
  },
  {
   "cell_type": "code",
   "execution_count": null,
   "id": "e27fa351-2ffb-4c6c-84b6-3c95764b2051",
   "metadata": {},
   "outputs": [],
   "source": [
    "solution 3\n",
    "here are the examples of how to access,modify and delete elements in a list"
   ]
  },
  {
   "cell_type": "markdown",
   "id": "90f874a0-e861-447f-b47f-961b52a0df17",
   "metadata": {},
   "source": [
    "1- to access elements of list"
   ]
  },
  {
   "cell_type": "code",
   "execution_count": 24,
   "id": "f02dd59d-af15-41fe-bdf3-00c73f1d1ce5",
   "metadata": {},
   "outputs": [
    {
     "data": {
      "text/plain": [
       "[1, 2, 3, 4]"
      ]
     },
     "execution_count": 24,
     "metadata": {},
     "output_type": "execute_result"
    }
   ],
   "source": [
    "lst = [1,2,3,\"a\",\"b\",\"c\",[1,2,3,4],(7,8,9),{3,4,5},{\"k1\": \"v1\",\"k2\" : \"v2\"}]\n",
    "lst[6] #use index of item to acess it"
   ]
  },
  {
   "cell_type": "code",
   "execution_count": 25,
   "id": "f14d951d-b647-473d-a83a-9f6f40c92396",
   "metadata": {},
   "outputs": [
    {
     "data": {
      "text/plain": [
       "9"
      ]
     },
     "execution_count": 25,
     "metadata": {},
     "output_type": "execute_result"
    }
   ],
   "source": [
    "lst[7][2] #acess nested items"
   ]
  },
  {
   "cell_type": "code",
   "execution_count": 26,
   "id": "2e3da473-a4c0-432f-bf2d-6fa40436949e",
   "metadata": {},
   "outputs": [
    {
     "ename": "TypeError",
     "evalue": "'set' object is not subscriptable",
     "output_type": "error",
     "traceback": [
      "\u001b[0;31m---------------------------------------------------------------------------\u001b[0m",
      "\u001b[0;31mTypeError\u001b[0m                                 Traceback (most recent call last)",
      "Cell \u001b[0;32mIn[26], line 1\u001b[0m\n\u001b[0;32m----> 1\u001b[0m \u001b[43mlst\u001b[49m\u001b[43m[\u001b[49m\u001b[38;5;241;43m8\u001b[39;49m\u001b[43m]\u001b[49m\u001b[43m[\u001b[49m\u001b[38;5;241;43m2\u001b[39;49m\u001b[43m]\u001b[49m \u001b[38;5;66;03m#as at index 8 is set we cannot acess its items\u001b[39;00m\n",
      "\u001b[0;31mTypeError\u001b[0m: 'set' object is not subscriptable"
     ]
    }
   ],
   "source": [
    "lst[8][2] #as at index 8 is set we cannot acess its items"
   ]
  },
  {
   "cell_type": "code",
   "execution_count": 27,
   "id": "f2f09bb0-9a80-4c7c-ad1f-229ba5ac84dd",
   "metadata": {},
   "outputs": [
    {
     "data": {
      "text/plain": [
       "'v2'"
      ]
     },
     "execution_count": 27,
     "metadata": {},
     "output_type": "execute_result"
    }
   ],
   "source": [
    "lst[9][\"k2\"] #at index 9 is dictionary so use key to acess its value"
   ]
  },
  {
   "cell_type": "markdown",
   "id": "73ee14fc-8c94-4dc5-aff7-0b6f2465f20a",
   "metadata": {},
   "source": [
    "2. to modify element of list"
   ]
  },
  {
   "cell_type": "code",
   "execution_count": 28,
   "id": "eea77609-d9e2-49a6-b903-48a364c8a876",
   "metadata": {},
   "outputs": [],
   "source": [
    "lst = [1,2,3,\"a\",\"b\",\"c\",[1,2,3,4],(7,8,9),{3,4,5},{\"k1\": \"v1\",\"k2\" : \"v2\"}]"
   ]
  },
  {
   "cell_type": "code",
   "execution_count": 29,
   "id": "fcac9c6a-9e40-4267-84b3-5aec25cce745",
   "metadata": {},
   "outputs": [],
   "source": [
    "lst[6] = \"d\" #replace index 6 element which is nested list with string \"e\""
   ]
  },
  {
   "cell_type": "code",
   "execution_count": 30,
   "id": "df0b7d9d-58b7-4161-a2c5-4a4b6a5061cd",
   "metadata": {},
   "outputs": [
    {
     "data": {
      "text/plain": [
       "[1, 2, 3, 'a', 'b', 'c', 'd', (7, 8, 9), {3, 4, 5}, {'k1': 'v1', 'k2': 'v2'}]"
      ]
     },
     "execution_count": 30,
     "metadata": {},
     "output_type": "execute_result"
    }
   ],
   "source": [
    "lst"
   ]
  },
  {
   "cell_type": "code",
   "execution_count": 31,
   "id": "d550aa02-8d57-4bd1-8cf8-930d2a9ceed6",
   "metadata": {},
   "outputs": [
    {
     "data": {
      "text/plain": [
       "[1, 2, 3, 'a', 'b', 'c', 'd', (7, 8, 9), {3, 4, 5}, {'k1': 'v3', 'k2': 'v2'}]"
      ]
     },
     "execution_count": 31,
     "metadata": {},
     "output_type": "execute_result"
    }
   ],
   "source": [
    "lst[9][\"k1\"] = \"v3\" #as 9th index element is dictionary we can modify it using key\n",
    "lst"
   ]
  },
  {
   "cell_type": "code",
   "execution_count": 32,
   "id": "9a23ca4d-879e-4bec-97f7-658c4235fae4",
   "metadata": {},
   "outputs": [
    {
     "ename": "TypeError",
     "evalue": "'tuple' object does not support item assignment",
     "output_type": "error",
     "traceback": [
      "\u001b[0;31m---------------------------------------------------------------------------\u001b[0m",
      "\u001b[0;31mTypeError\u001b[0m                                 Traceback (most recent call last)",
      "Cell \u001b[0;32mIn[32], line 1\u001b[0m\n\u001b[0;32m----> 1\u001b[0m \u001b[43mlst\u001b[49m\u001b[43m[\u001b[49m\u001b[38;5;241;43m7\u001b[39;49m\u001b[43m]\u001b[49m\u001b[43m[\u001b[49m\u001b[38;5;241;43m2\u001b[39;49m\u001b[43m]\u001b[49m \u001b[38;5;241m=\u001b[39m \u001b[38;5;241m4\u001b[39m \u001b[38;5;66;03m#as 7th index element is tuple we cannot modify it\u001b[39;00m\n",
      "\u001b[0;31mTypeError\u001b[0m: 'tuple' object does not support item assignment"
     ]
    }
   ],
   "source": [
    "lst[7][2] = 4 #as 7th index element is tuple we cannot modify it"
   ]
  },
  {
   "cell_type": "markdown",
   "id": "f642131d-238b-479b-9d74-ab2cd295e0f8",
   "metadata": {},
   "source": [
    "3. to delete items"
   ]
  },
  {
   "cell_type": "code",
   "execution_count": 33,
   "id": "b88b1627-5399-497d-b440-267c290c3ae5",
   "metadata": {},
   "outputs": [
    {
     "data": {
      "text/plain": [
       "[1, 2, 3, 'a', 'b', 'c', (7, 8, 9), {3, 4, 5}, {'k1': 'v1', 'k2': 'v2'}]"
      ]
     },
     "execution_count": 33,
     "metadata": {},
     "output_type": "execute_result"
    }
   ],
   "source": [
    "lst = [1,2,3,\"a\",\"b\",\"c\",[1,2,3,4],(7,8,9),{3,4,5},{\"k1\": \"v1\",\"k2\" : \"v2\"}]\n",
    "lst.remove([1,2,3,4]) #remove given element from list\n",
    "lst"
   ]
  },
  {
   "cell_type": "code",
   "execution_count": 34,
   "id": "e821e5ae-7eba-4b0a-984b-4330b02a99e8",
   "metadata": {},
   "outputs": [
    {
     "data": {
      "text/plain": [
       "{'k1': 'v1', 'k2': 'v2'}"
      ]
     },
     "execution_count": 34,
     "metadata": {},
     "output_type": "execute_result"
    }
   ],
   "source": [
    "lst.pop() #remove last element from list"
   ]
  },
  {
   "cell_type": "code",
   "execution_count": 35,
   "id": "ce99f37b-9758-4029-8436-3437d3e47df1",
   "metadata": {},
   "outputs": [
    {
     "data": {
      "text/plain": [
       "[1, 2, 3, 'a', 'b', 'c', (7, 8, 9), {3, 4, 5}]"
      ]
     },
     "execution_count": 35,
     "metadata": {},
     "output_type": "execute_result"
    }
   ],
   "source": [
    "lst"
   ]
  },
  {
   "cell_type": "code",
   "execution_count": 36,
   "id": "1c931d00-4183-423e-9ec6-c87ea05e79cb",
   "metadata": {},
   "outputs": [
    {
     "data": {
      "text/plain": [
       "{3, 4, 5}"
      ]
     },
     "execution_count": 36,
     "metadata": {},
     "output_type": "execute_result"
    }
   ],
   "source": [
    "lst.pop(7) #remove 7th index element from list"
   ]
  },
  {
   "cell_type": "code",
   "execution_count": 37,
   "id": "acddfe9a-e434-4c22-8827-9308264642b9",
   "metadata": {},
   "outputs": [
    {
     "data": {
      "text/plain": [
       "[1, 2, 3, 'a', 'b', 'c', (7, 8, 9)]"
      ]
     },
     "execution_count": 37,
     "metadata": {},
     "output_type": "execute_result"
    }
   ],
   "source": [
    "lst"
   ]
  },
  {
   "cell_type": "markdown",
   "id": "d091e89d-ffce-4bb0-a47f-c02411a82324",
   "metadata": {},
   "source": [
    "4.Compare and contrast tuples and lists with examples."
   ]
  },
  {
   "cell_type": "code",
   "execution_count": null,
   "id": "1ec8aa94-df91-42ca-83f5-eb498aea4ee6",
   "metadata": {},
   "outputs": [],
   "source": [
    "solution 4\n",
    "The main difference between tuples and list is tuples are immutable but list are mutable due to which\n",
    "uneexpected errors are more likely to occur in list than tuple."
   ]
  },
  {
   "cell_type": "code",
   "execution_count": 38,
   "id": "ccf7411c-7200-466f-b47d-15375e206f19",
   "metadata": {},
   "outputs": [],
   "source": [
    "#Examples\n",
    "lst = [1,2,3,4,5]\n",
    "tup = (1,2,3,4,5)"
   ]
  },
  {
   "cell_type": "code",
   "execution_count": 39,
   "id": "86703f19-8369-45ba-8c2a-ae377ffcd040",
   "metadata": {},
   "outputs": [
    {
     "data": {
      "text/plain": [
       "[1, 2, 7, 4, 5]"
      ]
     },
     "execution_count": 39,
     "metadata": {},
     "output_type": "execute_result"
    }
   ],
   "source": [
    "#list are mutable\n",
    "lst[2] = 7 #can change element\n",
    "lst"
   ]
  },
  {
   "cell_type": "code",
   "execution_count": 40,
   "id": "dff1ff30-b644-45a1-a69d-730035610e7f",
   "metadata": {},
   "outputs": [
    {
     "data": {
      "text/plain": [
       "[1, 7, 4, 5]"
      ]
     },
     "execution_count": 40,
     "metadata": {},
     "output_type": "execute_result"
    }
   ],
   "source": [
    "lst.remove(2) #can remove element\n",
    "lst"
   ]
  },
  {
   "cell_type": "code",
   "execution_count": 41,
   "id": "0260017c-2f6d-4923-a0b3-82c592626d90",
   "metadata": {},
   "outputs": [
    {
     "ename": "TypeError",
     "evalue": "'tuple' object does not support item assignment",
     "output_type": "error",
     "traceback": [
      "\u001b[0;31m---------------------------------------------------------------------------\u001b[0m",
      "\u001b[0;31mTypeError\u001b[0m                                 Traceback (most recent call last)",
      "Cell \u001b[0;32mIn[41], line 2\u001b[0m\n\u001b[1;32m      1\u001b[0m \u001b[38;5;66;03m#tuples are immutable\u001b[39;00m\n\u001b[0;32m----> 2\u001b[0m \u001b[43mtup\u001b[49m\u001b[43m[\u001b[49m\u001b[38;5;241;43m2\u001b[39;49m\u001b[43m]\u001b[49m \u001b[38;5;241m=\u001b[39m \u001b[38;5;241m7\u001b[39m \u001b[38;5;66;03m#cannot change element\u001b[39;00m\n\u001b[1;32m      3\u001b[0m tup\n",
      "\u001b[0;31mTypeError\u001b[0m: 'tuple' object does not support item assignment"
     ]
    }
   ],
   "source": [
    "#tuples are immutable\n",
    "tup[2] = 7 #cannot change element\n",
    "tup"
   ]
  },
  {
   "cell_type": "code",
   "execution_count": 42,
   "id": "2f949db8-d1d7-46f9-8fd0-0cee43391b62",
   "metadata": {},
   "outputs": [
    {
     "ename": "AttributeError",
     "evalue": "'tuple' object has no attribute 'remove'",
     "output_type": "error",
     "traceback": [
      "\u001b[0;31m---------------------------------------------------------------------------\u001b[0m",
      "\u001b[0;31mAttributeError\u001b[0m                            Traceback (most recent call last)",
      "Cell \u001b[0;32mIn[42], line 1\u001b[0m\n\u001b[0;32m----> 1\u001b[0m \u001b[43mtup\u001b[49m\u001b[38;5;241;43m.\u001b[39;49m\u001b[43mremove\u001b[49m(\u001b[38;5;241m2\u001b[39m) \u001b[38;5;66;03m#cannot remove element\u001b[39;00m\n\u001b[1;32m      2\u001b[0m tup\n",
      "\u001b[0;31mAttributeError\u001b[0m: 'tuple' object has no attribute 'remove'"
     ]
    }
   ],
   "source": [
    "tup.remove(2) #cannot remove element\n",
    "tup"
   ]
  },
  {
   "cell_type": "markdown",
   "id": "6729be59-2818-4961-8630-0915698552e6",
   "metadata": {},
   "source": [
    "5- Describe the key features of sets and provide examples of their use."
   ]
  },
  {
   "cell_type": "markdown",
   "id": "4e9bcd67-ec25-4269-8a1b-80c164d5f6ac",
   "metadata": {},
   "source": [
    "Sets are unordered"
   ]
  },
  {
   "cell_type": "code",
   "execution_count": 43,
   "id": "374b171f-0be1-4b6a-87c6-87796a973ba6",
   "metadata": {},
   "outputs": [
    {
     "ename": "TypeError",
     "evalue": "'set' object is not subscriptable",
     "output_type": "error",
     "traceback": [
      "\u001b[0;31m---------------------------------------------------------------------------\u001b[0m",
      "\u001b[0;31mTypeError\u001b[0m                                 Traceback (most recent call last)",
      "Cell \u001b[0;32mIn[43], line 3\u001b[0m\n\u001b[1;32m      1\u001b[0m \u001b[38;5;66;03m#example\u001b[39;00m\n\u001b[1;32m      2\u001b[0m s \u001b[38;5;241m=\u001b[39m {\u001b[38;5;241m1\u001b[39m,\u001b[38;5;241m2\u001b[39m,\u001b[38;5;241m3\u001b[39m,\u001b[38;5;241m4\u001b[39m,\u001b[38;5;241m5\u001b[39m}\n\u001b[0;32m----> 3\u001b[0m \u001b[43ms\u001b[49m\u001b[43m[\u001b[49m\u001b[38;5;241;43m1\u001b[39;49m\u001b[43m]\u001b[49m \u001b[38;5;66;03m#sets are unordered,we cannot use indexing or slicing\u001b[39;00m\n",
      "\u001b[0;31mTypeError\u001b[0m: 'set' object is not subscriptable"
     ]
    }
   ],
   "source": [
    "#example\n",
    "s = {1,2,3,4,5}\n",
    "s[1] #sets are unordered,we cannot use indexing or slicing"
   ]
  },
  {
   "cell_type": "markdown",
   "id": "1c20a299-d230-4b0c-be90-57c7efeadfd6",
   "metadata": {},
   "source": [
    "Set elements are unique. Duplicate elements are not allowed."
   ]
  },
  {
   "cell_type": "code",
   "execution_count": 44,
   "id": "05b69cef-b1de-41be-82d3-6bf7b384fddd",
   "metadata": {},
   "outputs": [
    {
     "data": {
      "text/plain": [
       "{1, 2, 3}"
      ]
     },
     "execution_count": 44,
     "metadata": {},
     "output_type": "execute_result"
    }
   ],
   "source": [
    "#example\n",
    "s = {1,1,1,1,2,2,2,3,3,3} \n",
    "s                #duplicate element will be deleted\n",
    "                  #we can use this to eliminate duplicate elements from different datastructures"
   ]
  },
  {
   "cell_type": "code",
   "execution_count": 45,
   "id": "e55a1cc2-899b-4543-a7f3-6410a604dd51",
   "metadata": {},
   "outputs": [
    {
     "data": {
      "text/plain": [
       "[1, 1, 2, 2, 2, 3, 3]"
      ]
     },
     "execution_count": 45,
     "metadata": {},
     "output_type": "execute_result"
    }
   ],
   "source": [
    "#example\n",
    "lst =[1,1,2,2,2,3,3]\n",
    "lst\n"
   ]
  },
  {
   "cell_type": "code",
   "execution_count": 46,
   "id": "cbdae85d-9dda-4037-b068-7818b73087a4",
   "metadata": {},
   "outputs": [
    {
     "data": {
      "text/plain": [
       "{1, 2, 3}"
      ]
     },
     "execution_count": 46,
     "metadata": {},
     "output_type": "execute_result"
    }
   ],
   "source": [
    "set(lst)      #will delete duplicate elements of list"
   ]
  },
  {
   "cell_type": "markdown",
   "id": "fe5dcf34-e07a-4574-a818-59d1a01a443f",
   "metadata": {},
   "source": [
    "A set is mutable"
   ]
  },
  {
   "cell_type": "code",
   "execution_count": 47,
   "id": "6c73be20-cc37-4920-99a9-5bfaf525b227",
   "metadata": {},
   "outputs": [
    {
     "data": {
      "text/plain": [
       "{1, 2, 3, 4, 5, 6, 'a'}"
      ]
     },
     "execution_count": 47,
     "metadata": {},
     "output_type": "execute_result"
    }
   ],
   "source": [
    "s = {1,2,3,4,5,6}\n",
    "s.add(\"a\")     #we can add elements\n",
    "s"
   ]
  },
  {
   "cell_type": "code",
   "execution_count": 48,
   "id": "eeca2872-77ba-4524-8b1f-b039c797f9b0",
   "metadata": {},
   "outputs": [
    {
     "data": {
      "text/plain": [
       "{1, 2, 3, 4, 5, 'a'}"
      ]
     },
     "execution_count": 48,
     "metadata": {},
     "output_type": "execute_result"
    }
   ],
   "source": [
    "s.remove(6)\n",
    "s"
   ]
  },
  {
   "cell_type": "markdown",
   "id": "f38cea35-148e-4240-9ab9-b9cffb8fc13d",
   "metadata": {},
   "source": [
    "A set itself mutable, but the elements contained in the set must be of an immutable type."
   ]
  },
  {
   "cell_type": "code",
   "execution_count": 49,
   "id": "5abdbfc1-06da-46b7-b346-ad93516fc3eb",
   "metadata": {},
   "outputs": [
    {
     "ename": "TypeError",
     "evalue": "unhashable type: 'list'",
     "output_type": "error",
     "traceback": [
      "\u001b[0;31m---------------------------------------------------------------------------\u001b[0m",
      "\u001b[0;31mTypeError\u001b[0m                                 Traceback (most recent call last)",
      "Cell \u001b[0;32mIn[49], line 1\u001b[0m\n\u001b[0;32m----> 1\u001b[0m s \u001b[38;5;241m=\u001b[39m {[\u001b[38;5;241m1\u001b[39m,\u001b[38;5;241m2\u001b[39m,\u001b[38;5;241m3\u001b[39m,\u001b[38;5;241m4\u001b[39m],\u001b[38;5;124m\"\u001b[39m\u001b[38;5;124ma\u001b[39m\u001b[38;5;124m\"\u001b[39m,\u001b[38;5;124m\"\u001b[39m\u001b[38;5;124mb\u001b[39m\u001b[38;5;124m\"\u001b[39m,\u001b[38;5;124m\"\u001b[39m\u001b[38;5;124mc\u001b[39m\u001b[38;5;124m\"\u001b[39m} \u001b[38;5;66;03m#cannot contain list as list is mutable\u001b[39;00m\n",
      "\u001b[0;31mTypeError\u001b[0m: unhashable type: 'list'"
     ]
    }
   ],
   "source": [
    "s = {[1,2,3,4],\"a\",\"b\",\"c\"} #cannot contain list as list is mutable"
   ]
  },
  {
   "cell_type": "markdown",
   "id": "cd2088ba-ded4-4f6e-9409-3d01ac140bae",
   "metadata": {},
   "source": [
    "6. Discuss the use cases of tuples and sets in Python programming."
   ]
  },
  {
   "cell_type": "code",
   "execution_count": null,
   "id": "cdd8c877-8f10-478b-8f4b-d069f7a35d88",
   "metadata": {},
   "outputs": [],
   "source": [
    "solution 6\n",
    "tuples being immutable can be used when we want our data to be unchanged and same\n",
    "wheras list can be used when we want mutable sequence of object whose length can vary"
   ]
  },
  {
   "cell_type": "markdown",
   "id": "a1a51ff5-4132-4d6f-bf4b-264e89ccf6ee",
   "metadata": {},
   "source": [
    "7. Describe how to add, modify, and delete items in a dictionary with examples."
   ]
  },
  {
   "cell_type": "markdown",
   "id": "7c578bc2-4fa6-4064-8760-2127f9c22b72",
   "metadata": {},
   "source": [
    "to add items in dictionary"
   ]
  },
  {
   "cell_type": "code",
   "execution_count": 50,
   "id": "81e68d9e-212e-40bc-8ce5-bbd532df4163",
   "metadata": {},
   "outputs": [
    {
     "data": {
      "text/plain": [
       "{'k1': 'v1', 'k2': 'v2', 'k3': 'v3', 'k4': 'v4'}"
      ]
     },
     "execution_count": 50,
     "metadata": {},
     "output_type": "execute_result"
    }
   ],
   "source": [
    "#example\n",
    "dict1 = {\"k1\":\"v1\",\"k2\":\"v2\",\"k3\":\"v3\",\"k4\":\"v4\"}\n",
    "dict1"
   ]
  },
  {
   "cell_type": "code",
   "execution_count": 51,
   "id": "d1f4199a-aea5-4a4a-bee9-0a21b0a8970d",
   "metadata": {},
   "outputs": [
    {
     "data": {
      "text/plain": [
       "{'k1': 'v1', 'k2': 'v2', 'k3': 'v3', 'k4': 'v4', 'k5': 'v5'}"
      ]
     },
     "execution_count": 51,
     "metadata": {},
     "output_type": "execute_result"
    }
   ],
   "source": [
    "dict1[\"k5\"] = \"v5\"\n",
    "dict1      #new key pair k5,v5 will be added"
   ]
  },
  {
   "cell_type": "markdown",
   "id": "7ff775ba-80b3-4b77-b651-089c866f5fc5",
   "metadata": {},
   "source": [
    "to modify items in dictionary"
   ]
  },
  {
   "cell_type": "code",
   "execution_count": 52,
   "id": "f7fe0a6f-3f26-40f6-9a95-5e1b4b57afcf",
   "metadata": {},
   "outputs": [
    {
     "data": {
      "text/plain": [
       "{'k1': 'x1', 'k2': 'v2', 'k3': 'v3', 'k4': 'v4'}"
      ]
     },
     "execution_count": 52,
     "metadata": {},
     "output_type": "execute_result"
    }
   ],
   "source": [
    "dict1 = {\"k1\":\"v1\",\"k2\":\"v2\",\"k3\":\"v3\",\"k4\":\"v4\"}\n",
    "dict1[\"k1\"] = \"x1\"\n",
    "dict1             #value of k1 changed to x1 from v1"
   ]
  },
  {
   "cell_type": "markdown",
   "id": "875ba8bf-4516-4441-bee5-44174ae801bc",
   "metadata": {},
   "source": [
    "to delete items in dictionary"
   ]
  },
  {
   "cell_type": "code",
   "execution_count": 53,
   "id": "1490a97c-4801-417a-b307-cd4a34470ec2",
   "metadata": {},
   "outputs": [
    {
     "data": {
      "text/plain": [
       "{'k2': 'v2', 'k3': 'v3', 'k4': 'v4'}"
      ]
     },
     "execution_count": 53,
     "metadata": {},
     "output_type": "execute_result"
    }
   ],
   "source": [
    "del dict1[\"k1\"]\n",
    "dict1     #will delete key k1 and its value v1"
   ]
  },
  {
   "cell_type": "markdown",
   "id": "a1b30f37-f8a2-470a-9847-92df40eed816",
   "metadata": {},
   "source": [
    "8. Discuss the importance of dictionary keys being immutable and provide examples"
   ]
  },
  {
   "cell_type": "code",
   "execution_count": null,
   "id": "5df515d1-2f59-464e-9fdd-26505d41457b",
   "metadata": {},
   "outputs": [],
   "source": [
    "dictionary key should be immutable otherwise hash value always gets changed \n",
    "and it will be difficult to find right key value pair\n"
   ]
  },
  {
   "cell_type": "code",
   "execution_count": 17,
   "id": "627da7cd-d0e1-40d3-a233-339cfd269873",
   "metadata": {},
   "outputs": [
    {
     "ename": "TypeError",
     "evalue": "unhashable type: 'list'",
     "output_type": "error",
     "traceback": [
      "\u001b[0;31m---------------------------------------------------------------------------\u001b[0m",
      "\u001b[0;31mTypeError\u001b[0m                                 Traceback (most recent call last)",
      "Cell \u001b[0;32mIn[17], line 2\u001b[0m\n\u001b[1;32m      1\u001b[0m \u001b[38;5;66;03m#example\u001b[39;00m\n\u001b[0;32m----> 2\u001b[0m dict1 \u001b[38;5;241m=\u001b[39m {[\u001b[38;5;241m1\u001b[39m,\u001b[38;5;241m2\u001b[39m,\u001b[38;5;241m3\u001b[39m]:\u001b[38;5;124m'\u001b[39m\u001b[38;5;124ma\u001b[39m\u001b[38;5;124m'\u001b[39m,(\u001b[38;5;241m1\u001b[39m,\u001b[38;5;241m2\u001b[39m,\u001b[38;5;241m3\u001b[39m):\u001b[38;5;124m'\u001b[39m\u001b[38;5;124mb\u001b[39m\u001b[38;5;124m'\u001b[39m}\n",
      "\u001b[0;31mTypeError\u001b[0m: unhashable type: 'list'"
     ]
    }
   ],
   "source": [
    "#example\n",
    "dict1 = {[1,2,3]:'a',(1,2,3):'b'} #we cannot use list as key"
   ]
  },
  {
   "cell_type": "code",
   "execution_count": null,
   "id": "1394bde8-ac25-4d71-909e-88c545ba390f",
   "metadata": {},
   "outputs": [],
   "source": []
  }
 ],
 "metadata": {
  "kernelspec": {
   "display_name": "Python 3 (ipykernel)",
   "language": "python",
   "name": "python3"
  },
  "language_info": {
   "codemirror_mode": {
    "name": "ipython",
    "version": 3
   },
   "file_extension": ".py",
   "mimetype": "text/x-python",
   "name": "python",
   "nbconvert_exporter": "python",
   "pygments_lexer": "ipython3",
   "version": "3.10.8"
  }
 },
 "nbformat": 4,
 "nbformat_minor": 5
}
